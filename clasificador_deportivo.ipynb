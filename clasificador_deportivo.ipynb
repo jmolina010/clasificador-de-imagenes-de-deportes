{
 "cells": [
  {
   "cell_type": "markdown",
   "metadata": {},
   "source": [
    "# CNN Convolutional Neural Networks y para clasificar deportes"
   ]
  },
  {
   "cell_type": "markdown",
   "metadata": {},
   "source": [
    "Realizaremos un ejercicio basado en un código que está explicado en el blog www.aprendemachinelearning.com para hacer reconocimiento de imágenes.\n",
    "Sobre el ejercicio base se ha modificado la estructura de la red inicial y se ha generado una red nueva, por lo que resulta un ejercicio totalmente diferente a partir del mismo conjunto de datos. Se ha aprovechado el código de lectura y preparación de la data. LAs imágenes con el segundo test -al final del ejercicio- y las conclusiones extraídas del segundo test son también cosecha propia -no se han aprovechado del blog referido-"
   ]
  },
  {
   "cell_type": "markdown",
   "metadata": {},
   "source": [
    "### 1. Importar Librerías"
   ]
  },
  {
   "cell_type": "code",
   "execution_count": 2,
   "metadata": {
    "ExecuteTime": {
     "end_time": "2018-11-08T00:12:59.231970Z",
     "start_time": "2018-11-08T00:12:51.800950Z"
    }
   },
   "outputs": [],
   "source": [
    "import numpy as np\n",
    "import os\n",
    "import re\n",
    "import matplotlib.pyplot as plt\n",
    "%matplotlib inline\n",
    "from sklearn.model_selection import train_test_split\n",
    "from sklearn.metrics import classification_report\n",
    "\n",
    "import keras\n",
    "from keras.utils import to_categorical\n",
    "from keras.models import Sequential,Input,Model\n",
    "from keras.layers import Dense, Dropout, Flatten\n",
    "from keras.layers import Conv2D, MaxPooling2D\n",
    "from keras.layers.normalization import BatchNormalization\n",
    "from keras.layers.advanced_activations import LeakyReLU"
   ]
  },
  {
   "cell_type": "markdown",
   "metadata": {},
   "source": [
    "### 2. Cargar set de Imágenes\n",
    "\n",
    "#### En el vector images tendremos las imágenes (ya leídas, cada posición del vector es una imagen), en el vector directories los directorios y en el vector dircount el total de imágenes para cada directorio"
   ]
  },
  {
   "cell_type": "code",
   "execution_count": null,
   "metadata": {},
   "outputs": [],
   "source": [
    "dirname = os.path.join(os.getcwd(), 'sportimages')\n",
    "imgpath = dirname + os.sep \n",
    "\n",
    "images = []\n",
    "directories = []\n",
    "dircount = []\n",
    "prevRoot=''\n",
    "cant=0\n",
    "\n",
    "print(\"leyendo imagenes de \",imgpath)\n",
    "\n",
    "for root, dirnames, filenames in os.walk(imgpath):\n",
    "    for filename in filenames:\n",
    "        if re.search(\"\\.(jpg|jpeg|png|bmp|tiff)$\", filename):\n",
    "            cant=cant+1\n",
    "            filepath = os.path.join(root, filename)\n",
    "            image = plt.imread(filepath)\n",
    "            images.append(image)\n",
    "            b = \"Leyendo...\" + str(cant)\n",
    "            print (b, end=\"\\r\")\n",
    "            if prevRoot !=root:\n",
    "                print(root, cant)\n",
    "                prevRoot=root\n",
    "                directories.append(root)\n",
    "                dircount.append(cant)\n",
    "                cant=0\n",
    "dircount.append(cant)\n",
    "\n",
    "dircount = dircount[1:]\n",
    "dircount[0]=dircount[0]+1\n",
    "print('Directorios leidos:',len(directories))\n",
    "print(\"Imagenes en cada directorio\", dircount)\n",
    "print('suma Total de imagenes en subdirs:',sum(dircount))"
   ]
  },
  {
   "cell_type": "markdown",
   "metadata": {},
   "source": [
    "### 3. Generamos la lista de etiquetas y preparamos al final los vectores X e y para entrenar a la red.\n",
    "\n",
    "####  Aprovechando que en la lista dircount tenemos el total de imágenes para cada directorio, generamos etiquetas.\n",
    "\n",
    "#### Las etiquetas van a ser números enteros del 0 al 9 (uno para cada deporte, pero en el vector labels hay tantas etiquetas como imágenes hay en el vector images porque se etiqueta cada una de ellas). Adicionalmente en la siguiente celda, se genera el vector deportes, que almacena el nombre de cada etiqueta"
   ]
  },
  {
   "cell_type": "code",
   "execution_count": 5,
   "metadata": {
    "ExecuteTime": {
     "end_time": "2018-11-08T00:16:45.269861Z",
     "start_time": "2018-11-08T00:16:45.251786Z"
    }
   },
   "outputs": [
    {
     "name": "stdout",
     "output_type": "stream",
     "text": [
      "Cantidad etiquetas creadas:  77128\n"
     ]
    }
   ],
   "source": [
    "labels=[]\n",
    "indice=0\n",
    "for cantidad in dircount:\n",
    "    for i in range(cantidad):\n",
    "        labels.append(indice)\n",
    "    indice=indice+1\n",
    "print(\"Cantidad etiquetas creadas: \",len(labels))"
   ]
  },
  {
   "cell_type": "code",
   "execution_count": 6,
   "metadata": {
    "ExecuteTime": {
     "end_time": "2018-11-08T00:16:45.285925Z",
     "start_time": "2018-11-08T00:16:45.273489Z"
    }
   },
   "outputs": [
    {
     "name": "stdout",
     "output_type": "stream",
     "text": [
      "0 americano\n",
      "1 basket\n",
      "2 beisball\n",
      "3 boxeo\n",
      "4 ciclismo\n",
      "5 f1\n",
      "6 futbol\n",
      "7 golf\n",
      "8 natacion\n",
      "9 tenis\n"
     ]
    }
   ],
   "source": [
    "deportes=[]\n",
    "indice=0\n",
    "for directorio in directories:\n",
    "    name = directorio.split(os.sep)\n",
    "    print(indice , name[len(name)-1])\n",
    "    deportes.append(name[len(name)-1])\n",
    "    indice=indice+1"
   ]
  },
  {
   "cell_type": "markdown",
   "metadata": {},
   "source": [
    "#### Preparamos a continuación los arrays X (características) e y (variable objetivo) para entrenar a nuestro modelo"
   ]
  },
  {
   "cell_type": "code",
   "execution_count": 7,
   "metadata": {
    "ExecuteTime": {
     "end_time": "2018-11-08T00:16:45.498672Z",
     "start_time": "2018-11-08T00:16:45.290061Z"
    }
   },
   "outputs": [
    {
     "name": "stdout",
     "output_type": "stream",
     "text": [
      "Total number of outputs ::  10\n",
      "Output classes ::  [0 1 2 3 4 5 6 7 8 9]\n"
     ]
    }
   ],
   "source": [
    "y = np.array(labels)\n",
    "X = np.array(images, dtype=np.uint8) # convierto de lista a numpy\n",
    "\n",
    "# Se genera un vector con las diferentes clases de salida\n",
    "classes = np.unique(y)\n",
    "nClasses = len(classes)\n",
    "print('Total number of outputs :: ', nClasses)\n",
    "print('Output classes :: ', classes)"
   ]
  },
  {
   "cell_type": "markdown",
   "metadata": {},
   "source": [
    "### 4. Creamos Sets de Entrenamiento y Test\n",
    "\n",
    "#### 'train_test_split' tiene un parámetro, 'shuffle', con valor por defecto True, que indica si los datos deben barajarse antes o no, por lo que los conjuntos de entrenamiento y test se barajan antes de hacer la división.\n",
    "\n",
    "#### Es muy importante tener esto en cuenta, ya que nunca se debe entrenar un modelo sin haber mezclado los datos, ya que esto generaría un modelo completamente desbalanceado, por lo que si en alguna ocasión disponemos de los conjuntos de entrenamiento y test ya separados, conviene que los de entrenamiento los mezclemos haciendo uso de la función shuffle()."
   ]
  },
  {
   "cell_type": "code",
   "execution_count": 8,
   "metadata": {
    "ExecuteTime": {
     "end_time": "2018-11-08T00:16:45.669596Z",
     "start_time": "2018-11-08T00:16:45.502716Z"
    }
   },
   "outputs": [
    {
     "name": "stdout",
     "output_type": "stream",
     "text": [
      "Training data shape :  (61702, 21, 28, 3) (61702,)\n",
      "Testing data shape :  (15426, 21, 28, 3) (15426,)\n"
     ]
    }
   ],
   "source": [
    "train_X,test_X,train_Y,test_Y = train_test_split(X,y,test_size=0.2)\n",
    "print('Training data shape : ', train_X.shape, train_Y.shape)\n",
    "print('Testing data shape : ', test_X.shape, test_Y.shape)"
   ]
  },
  {
   "cell_type": "markdown",
   "metadata": {},
   "source": [
    "#### A continuación mostramos las primeras imágenes de los conjuntos de entrenamiento y validación"
   ]
  },
  {
   "cell_type": "code",
   "execution_count": 9,
   "metadata": {
    "ExecuteTime": {
     "end_time": "2018-11-08T00:16:49.319746Z",
     "start_time": "2018-11-08T00:16:45.673944Z"
    }
   },
   "outputs": [
    {
     "data": {
      "text/plain": [
       "Text(0.5, 1.0, 'Ground Truth : 3')"
      ]
     },
     "execution_count": 9,
     "metadata": {},
     "output_type": "execute_result"
    },
    {
     "data": {
      "image/png": "[encoded data removed]",
      "text/plain": [
       "<Figure size 360x360 with 2 Axes>"
      ]
     },
     "metadata": {
      "needs_background": "light"
     },
     "output_type": "display_data"
    }
   ],
   "source": [
    "plt.figure(figsize=[5,5])\n",
    "\n",
    "plt.subplot(121)\n",
    "plt.imshow(train_X[0,:,:], cmap='gray')\n",
    "plt.title(\"Ground Truth : {}\".format(train_Y[0]))\n",
    "\n",
    "plt.subplot(122)\n",
    "plt.imshow(test_X[0,:,:], cmap='gray')\n",
    "plt.title(\"Ground Truth : {}\".format(test_Y[0]))"
   ]
  },
  {
   "cell_type": "markdown",
   "metadata": {},
   "source": [
    "### 5. Preprocesado de la data\n",
    "\n",
    "#### Primero se normalizan las imágenes, para manejar, en todos los casos, números entre 0 y 1"
   ]
  },
  {
   "cell_type": "code",
   "execution_count": 10,
   "metadata": {
    "ExecuteTime": {
     "end_time": "2018-11-08T00:16:50.798162Z",
     "start_time": "2018-11-08T00:16:49.322999Z"
    }
   },
   "outputs": [],
   "source": [
    "train_X = train_X.astype('float32')\n",
    "test_X = test_X.astype('float32')\n",
    "train_X = train_X / 255.\n",
    "test_X = test_X / 255."
   ]
  },
  {
   "cell_type": "markdown",
   "metadata": {},
   "source": [
    "#### Hacemos One-hot Encoding sobre el dataset, concretamente sobre la etiqueta"
   ]
  },
  {
   "cell_type": "code",
   "execution_count": 12,
   "metadata": {
    "ExecuteTime": {
     "end_time": "2018-11-08T00:16:50.815482Z",
     "start_time": "2018-11-08T00:16:50.800831Z"
    }
   },
   "outputs": [
    {
     "name": "stdout",
     "output_type": "stream",
     "text": [
      "Original label: 4\n",
      "After conversion to one-hot: [0. 0. 0. 0. 1. 0. 0. 0. 0. 0.] \n",
      "\n"
     ]
    }
   ],
   "source": [
    "# Se cambian las etiquetas predictoras por la matriz resultante del One Hot Encoding\n",
    "train_Y_one_hot = to_categorical(train_Y)\n",
    "test_Y_one_hot = to_categorical(test_Y)\n",
    "\n",
    "# Se muestra este cambio\n",
    "print('Original label:', train_Y[0])\n",
    "print('After conversion to one-hot:', train_Y_one_hot[0], \"\\n\")\n"
   ]
  },
  {
   "cell_type": "markdown",
   "metadata": {},
   "source": [
    "### 6. Creamos el Set de Entrenamiento y Validación\n",
    "\n",
    "#### A partir del training set, ahora se reserva una parte del mismo para validar en cada epoch. Esto ayuda a la detección temprana del onverfitting, ya que el método \"fit\" nos informará del aprendizaje en entrenamiento y en validación en cada epoch, y si estos datos difieren mucho -empeorando mucho el de validación-, entonces el modelo probabemente esté sobreajustando a los datos de entrenamiento."
   ]
  },
  {
   "cell_type": "code",
   "execution_count": 13,
   "metadata": {
    "ExecuteTime": {
     "end_time": "2018-11-08T00:16:51.218520Z",
     "start_time": "2018-11-08T00:16:50.818992Z"
    }
   },
   "outputs": [],
   "source": [
    "# Mezclar todo y crear los grupos de entrenamiento y testing\n",
    "train_X,valid_X,train_label,valid_label = train_test_split(train_X, train_Y_one_hot, test_size=0.2, random_state=13)"
   ]
  },
  {
   "cell_type": "code",
   "execution_count": 14,
   "metadata": {
    "ExecuteTime": {
     "end_time": "2018-11-08T00:16:51.228116Z",
     "start_time": "2018-11-08T00:16:51.222460Z"
    }
   },
   "outputs": [
    {
     "name": "stdout",
     "output_type": "stream",
     "text": [
      "(49361, 21, 28, 3) (12341, 21, 28, 3) (49361, 10) (12341, 10)\n"
     ]
    }
   ],
   "source": [
    "print(train_X.shape,valid_X.shape,train_label.shape,valid_label.shape)"
   ]
  },
  {
   "cell_type": "markdown",
   "metadata": {},
   "source": [
    "### 7. Creamos el modelo de red convolucional\n",
    "\n",
    "#### Más abajo se muestra código para guardar el modelo entrenado y para cargarlo de memoria, cuando ya hemos ajustado el modelo lo suficiente para obtener un accuracy bueno"
   ]
  },
  {
   "cell_type": "code",
   "execution_count": 15,
   "metadata": {
    "ExecuteTime": {
     "end_time": "2018-11-08T00:16:51.244776Z",
     "start_time": "2018-11-08T00:16:51.238704Z"
    }
   },
   "outputs": [],
   "source": [
    "# declaramos variables con los parámetros de configuración de la red\n",
    "\n",
    "INIT_LR = 1e-3 # Valor inicial de learning rate. El valor 1e-3 corresponde con 0.001\n",
    "\n",
    "epochs = 6 # Cantidad de iteraciones completas al conjunto de imagenes de entrenamiento podríamos haber especificado un valor \n",
    "# de épocas más elevado y quizá haber generaro un callback de early_stop para evitar overfitting, pero por tratarse de un \n",
    "# ejercicio didáctico centrado en mostrar un diseño adecuado de red y en introducir algunas capas, como LeakyRelu, no se \n",
    "# ha hecho, para que el tiempo de entrenamiento no sea muy grande\n",
    "\n",
    "batch_size = 64 # Cantidad de imágenes que se cargan a la vez en memoria. Como son imágenes pequeñas, puede especificarse \n",
    "# sin riesgo de saturar la memoria un valor de 64"
   ]
  },
  {
   "cell_type": "code",
   "execution_count": null,
   "metadata": {
    "ExecuteTime": {
     "end_time": "2018-11-08T00:16:51.384131Z",
     "start_time": "2018-11-08T00:16:51.252188Z"
    }
   },
   "outputs": [],
   "source": [
    "# 1.- LeakyRelu es una funcion de activacion, que evita el 0 de relu, pero se aplica como capa, por eso se le pone \n",
    "# activacion lineal a la capa convolucional, porque la activacion REAL tiene lugar aquí, el la capa LeakyRelu\n",
    "# 2.- DropOut desactiva de forma aleatoria algunas neuronas de salida, lo que contribuye a evitar overfitting.\n",
    "# 3.- Cuando aún así el modelo no ajusta bien, puede probarse limitando el DropOut a las capas densas de clasificación\n",
    "\n",
    "sport_model = Sequential()\n",
    "\n",
    "sport_model.add(Conv2D(32, kernel_size=(3, 3),activation='linear',padding='same',input_shape=(21,28,3)))\n",
    "sport_model.add(LeakyReLU(alpha=0.1)) \n",
    "sport_model.add(MaxPooling2D((2, 2),padding='same'))\n",
    "sport_model.add(Dropout(0.5))\n",
    "\n",
    "sport_model.add(Conv2D(64, kernel_size=(3, 3),activation='linear'))\n",
    "# LeakyRelu es una funcion de activacion, que evita el 0 de relu, pero se aplica como capa, por eso se le pone \n",
    "# activacion lineal a la capa convolucional, porque la activacion REAL tiene lugar aquí, el la capa LeakyRelu\n",
    "sport_model.add(LeakyReLU(alpha=0.1)) \n",
    "sport_model.add(MaxPooling2D((2, 2)))\n",
    "sport_model.add(Dropout(0.5))\n",
    "\n",
    "sport_model.add(Conv2D(128, kernel_size=(3, 3),activation='linear'))\n",
    "# LeakyRelu es una funcion de activacion, que evita el 0 de relu, pero se aplica como capa, por eso se le pone \n",
    "# activacion lineal a la capa convolucional, porque la activacion REAL tiene lugar aquí, el la capa LeakyRelu\n",
    "sport_model.add(LeakyReLU(alpha=0.1)) \n",
    "sport_model.add(MaxPooling2D((2, 2)))\n",
    "sport_model.add(Dropout(0.5))\n",
    "\n",
    "sport_model.add(Flatten())\n",
    "sport_model.add(Dense(32, activation='linear'))\n",
    "sport_model.add(LeakyReLU(alpha=0.1))\n",
    "sport_model.add(Dropout(0.5))\n",
    "sport_model.add(Dense(nClasses, activation='softmax'))"
   ]
  },
  {
   "cell_type": "code",
   "execution_count": null,
   "metadata": {
    "ExecuteTime": {
     "end_time": "2018-11-08T00:16:51.401674Z",
     "start_time": "2018-11-08T00:16:51.386676Z"
    }
   },
   "outputs": [],
   "source": [
    "sport_model.summary()"
   ]
  },
  {
   "cell_type": "code",
   "execution_count": null,
   "metadata": {
    "ExecuteTime": {
     "end_time": "2018-11-08T00:16:51.472349Z",
     "start_time": "2018-11-08T00:16:51.406817Z"
    }
   },
   "outputs": [],
   "source": [
    "sport_model.compile(loss=keras.losses.categorical_crossentropy, optimizer=keras.optimizers.Adagrad(lr=INIT_LR, decay=INIT_LR / 100),metrics=['accuracy'])"
   ]
  },
  {
   "cell_type": "markdown",
   "metadata": {},
   "source": [
    "#### Entrenamos el modelo: Aprende a clasificar imágenes"
   ]
  },
  {
   "cell_type": "code",
   "execution_count": null,
   "metadata": {
    "ExecuteTime": {
     "end_time": "2018-11-08T00:20:49.562522Z",
     "start_time": "2018-11-08T00:16:51.474807Z"
    }
   },
   "outputs": [],
   "source": [
    "# este paso puede tomar varios minutos, dependiendo de tu ordenador, cpu y memoria ram libre\n",
    "\n",
    "sport_train = sport_model.fit(train_X, train_label, batch_size=batch_size,epochs=epochs,verbose=1,validation_data=(valid_X, valid_label))"
   ]
  },
  {
   "cell_type": "code",
   "execution_count": null,
   "metadata": {},
   "outputs": [],
   "source": [
    "test_loss, test_acc = sport_model.evaluate(valid_X,  valid_label)\n",
    "print('\\nTest accuracy:', test_acc)"
   ]
  },
  {
   "cell_type": "markdown",
   "metadata": {},
   "source": [
    "#### Como el accuracy es bastante malo, diseñamos otra red diferente, con un enfoque distinto y mayor número de capas"
   ]
  },
  {
   "cell_type": "code",
   "execution_count": 18,
   "metadata": {},
   "outputs": [
    {
     "name": "stdout",
     "output_type": "stream",
     "text": [
      "Model: \"sequential_1\"\n",
      "_________________________________________________________________\n",
      "Layer (type)                 Output Shape              Param #   \n",
      "=================================================================\n",
      "conv2d_4 (Conv2D)            (None, 21, 28, 64)        1792      \n",
      "_________________________________________________________________\n",
      "batch_normalization_5 (Batch (None, 21, 28, 64)        256       \n",
      "_________________________________________________________________\n",
      "conv2d_5 (Conv2D)            (None, 21, 28, 64)        36928     \n",
      "_________________________________________________________________\n",
      "batch_normalization_6 (Batch (None, 21, 28, 64)        256       \n",
      "_________________________________________________________________\n",
      "dropout_5 (Dropout)          (None, 21, 28, 64)        0         \n",
      "_________________________________________________________________\n",
      "conv2d_6 (Conv2D)            (None, 21, 28, 64)        36928     \n",
      "_________________________________________________________________\n",
      "max_pooling2d_1 (MaxPooling2 (None, 10, 14, 64)        0         \n",
      "_________________________________________________________________\n",
      "dropout_6 (Dropout)          (None, 10, 14, 64)        0         \n",
      "_________________________________________________________________\n",
      "conv2d_7 (Conv2D)            (None, 10, 14, 128)       73856     \n",
      "_________________________________________________________________\n",
      "batch_normalization_7 (Batch (None, 10, 14, 128)       512       \n",
      "_________________________________________________________________\n",
      "dropout_7 (Dropout)          (None, 10, 14, 128)       0         \n",
      "_________________________________________________________________\n",
      "flatten_1 (Flatten)          (None, 17920)             0         \n",
      "_________________________________________________________________\n",
      "dense_3 (Dense)              (None, 32)                573472    \n",
      "_________________________________________________________________\n",
      "leaky_re_lu_2 (LeakyReLU)    (None, 32)                0         \n",
      "_________________________________________________________________\n",
      "batch_normalization_8 (Batch (None, 32)                128       \n",
      "_________________________________________________________________\n",
      "dropout_8 (Dropout)          (None, 32)                0         \n",
      "_________________________________________________________________\n",
      "dense_4 (Dense)              (None, 32)                1056      \n",
      "_________________________________________________________________\n",
      "leaky_re_lu_3 (LeakyReLU)    (None, 32)                0         \n",
      "_________________________________________________________________\n",
      "batch_normalization_9 (Batch (None, 32)                128       \n",
      "_________________________________________________________________\n",
      "dropout_9 (Dropout)          (None, 32)                0         \n",
      "_________________________________________________________________\n",
      "dense_5 (Dense)              (None, 10)                330       \n",
      "=================================================================\n",
      "Total params: 725,642\n",
      "Trainable params: 725,002\n",
      "Non-trainable params: 640\n",
      "_________________________________________________________________\n"
     ]
    }
   ],
   "source": [
    "# Aquí se introduce una capa nueva, que se llama BatchNormalization y que normaliza los datos de salida de la capa anterior.\n",
    "# Esto optimiza el resultado, ya que evita que haya datos muy alejados entre sí, ubicándolos a todos entre el -1 y el 1.\n",
    "\n",
    "# Explicación de capa BatchNormalization:\n",
    "# 1.- Cuando normalizamos los datos solo la capa de entrada se beneficia de esto, conforme los datos pasan por otras capas ocultas \n",
    "# esta normalización se va perdiendo y si tenemos una red neuronal con muchas capas podemos tener problemas con el entrenamiento\n",
    "# 2.- Este metodo tambien resuelve el problema **covariate shift**, si queremos entrenar correctamente una red neuronal \n",
    "# necesitamos que los datos estén bien distribuidos. En nuestra red neuronal tenemos las imágenes de los diferentes deportes, \n",
    "# y el método train_test_split, además de separar los conjuntos las mezcla, y además dividimos los datos de train en lotes más pequeños \n",
    "# -bath size-, es bueno que cada lote contenga imágenes de cada clase, si un lote solo contiene imagenes de una sola clase, el\n",
    "# entrenamiento sera más lento y tendremos que elegir hiperparametros con más cuidado como el learning rate, este problema puede\n",
    "# solucionarse si mezclamos los datos aleatoriamente (lo que hace por nosotros train_test_split) pero esto solo ayuda a la capa \n",
    "# de entrada. Por ello, lo que buscamos con BatchNormalization, es tener una distribución fija en cada neurona.\n",
    "\n",
    "# Cuando estamos construyendo una ConvNet, esta capa puede sustituir a la de Pooling. En una FeedForward o DensNet,debería \n",
    "# situarse antes de cada activación\n",
    "\n",
    "sport_model = Sequential()\n",
    "\n",
    "sport_model.add(Conv2D(64, kernel_size=(3, 3),activation='relu', strides=1, padding='same',input_shape=(21,28,3)))\n",
    "sport_model.add(BatchNormalization())\n",
    "\n",
    "sport_model.add(Conv2D(filters=64, kernel_size=(3, 3), activation='relu', strides=1, padding='same'))\n",
    "sport_model.add(BatchNormalization())\n",
    "sport_model.add(Dropout(0.25))\n",
    "\n",
    "sport_model.add(Conv2D(filters=64, kernel_size=(3, 3), activation='relu', strides=1, padding='same'))\n",
    "sport_model.add(MaxPooling2D(pool_size=(2, 2)))\n",
    "sport_model.add(Dropout(0.25))\n",
    "\n",
    "sport_model.add(Conv2D(filters=128, kernel_size=(3, 3), activation='relu', strides=1, padding='same'))\n",
    "sport_model.add(BatchNormalization())\n",
    "sport_model.add(Dropout(0.25))\n",
    "\n",
    "sport_model.add(Flatten())\n",
    "sport_model.add(Dense(32, activation='linear'))\n",
    "sport_model.add(LeakyReLU(alpha=0.2))\n",
    "sport_model.add(BatchNormalization())\n",
    "sport_model.add(Dropout(0.5))\n",
    "\n",
    "sport_model.add(Dense(32, activation='linear'))\n",
    "sport_model.add(LeakyReLU(alpha=0.2))\n",
    "sport_model.add(BatchNormalization())\n",
    "sport_model.add(Dropout(0.5))\n",
    "\n",
    "sport_model.add(Dense(nClasses, activation='softmax'))\n",
    "\n",
    "sport_model.summary()"
   ]
  },
  {
   "cell_type": "code",
   "execution_count": null,
   "metadata": {},
   "outputs": [],
   "source": [
    "sport_model.compile(loss=keras.losses.categorical_crossentropy, optimizer=keras.optimizers.Adagrad(lr=INIT_LR, decay=INIT_LR / 100),metrics=['accuracy'])\n",
    "\n",
    "sport_train = sport_model.fit(train_X, train_label, batch_size=batch_size,epochs=epochs,verbose=1,validation_data=(valid_X, valid_label))\n",
    "\n",
    "test_loss, test_acc = sport_model.evaluate(valid_X,  valid_label)\n",
    "print('\\Accuracy del set de validación:', test_acc)"
   ]
  },
  {
   "cell_type": "code",
   "execution_count": 20,
   "metadata": {},
   "outputs": [
    {
     "name": "stdout",
     "output_type": "stream",
     "text": [
      "Ya se ha compilado el modelo, ahora procedemos a su entrenamiento.\n",
      "\n",
      "Epoch 1/6\n",
      "772/772 [==============================] - 784s 1s/step - loss: 0.5848 - accuracy: 0.8245 - val_loss: 0.0786 - val_accuracy: 0.9754\n",
      "Epoch 2/6\n",
      "772/772 [==============================] - 733s 949ms/step - loss: 0.1686 - accuracy: 0.9537 - val_loss: 0.0557 - val_accuracy: 0.9815\n",
      "Epoch 3/6\n",
      "772/772 [==============================] - 720s 933ms/step - loss: 0.1026 - accuracy: 0.9708 - val_loss: 0.0297 - val_accuracy: 0.9917\n",
      "Epoch 4/6\n",
      "772/772 [==============================] - 698s 905ms/step - loss: 0.0775 - accuracy: 0.9781 - val_loss: 0.1136 - val_accuracy: 0.9622\n",
      "Epoch 5/6\n",
      "772/772 [==============================] - 740s 958ms/step - loss: 0.0637 - accuracy: 0.9820 - val_loss: 0.0401 - val_accuracy: 0.9861\n",
      "Epoch 6/6\n",
      "772/772 [==============================] - 737s 955ms/step - loss: 0.0549 - accuracy: 0.9842 - val_loss: 0.0362 - val_accuracy: 0.9904\n",
      "386/386 [==============================] - 29s 76ms/step - loss: 0.0362 - accuracy: 0.9904\n",
      "\\Accuracy del set de validación: 0.9904384016990662\n"
     ]
    }
   ],
   "source": [
    "# por último, vamos a tratar de mejorar un poco más el modelo, en este caso vamos a probar dos pasos más:\n",
    "# a usar el optimizador \"adam\" al compilar (y entrenamos para comparar)\n",
    "# y finalmente  si es necesario, entrenaremos con 30 epochs y callback de early_stop\n",
    "\n",
    "# nos quedaremos con la mejor opción\n",
    "\n",
    "#sport_model.compile(loss=keras.losses.categorical_crossentropy, optimizer=keras.optimizers.Adagrad(lr=INIT_LR, decay=INIT_LR / 100),metrics=['accuracy'])\n",
    "sport_model.compile(loss=keras.losses.categorical_crossentropy, optimizer='adam', metrics=['accuracy'])\n",
    "\n",
    "print (\"Ya se ha compilado el modelo, ahora procedemos a su entrenamiento.\\n\");\n",
    "sport_train = sport_model.fit(train_X, train_label, batch_size=batch_size, epochs=epochs,verbose=1,validation_data=(valid_X, valid_label))\n",
    "\n",
    "test_loss, test_acc = sport_model.evaluate(valid_X,  valid_label)\n",
    "print('\\Accuracy del set de validación:', test_acc)\n"
   ]
  },
  {
   "cell_type": "markdown",
   "metadata": {},
   "source": [
    "##### Puede observarse que en esta ocasión se ha conseguido un accuracy muy bueno tanto en entrenamiento como en validación, por lo que sospechamos que NO hay sobreajuste, dato que comprobaremos también con el dataset de test.\n"
   ]
  },
  {
   "cell_type": "code",
   "execution_count": null,
   "metadata": {},
   "outputs": [],
   "source": [
    "# Este bloque de código muestra el history del entrenamiento, por lo que solo si has entrenado la red (y no si \n",
    "# la recuperas de disco) funcionará.\n",
    "\n",
    "print (sport_train.history)\n",
    "accuracy = sport_train.history['accuracy']\n",
    "val_accuracy = sport_train.history['val_accuracy']\n",
    "loss = sport_train.history['loss']\n",
    "val_loss = sport_train.history['val_loss']\n",
    "epochs = range(len(accuracy))\n",
    "plt.plot(epochs, accuracy, 'bo', label='Training accuracy')\n",
    "plt.plot(epochs, val_accuracy, 'b', label='Validation accuracy')\n",
    "plt.title('Training and validation accuracy')\n",
    "plt.legend()\n",
    "plt.figure()\n",
    "plt.plot(epochs, loss, 'bo', label='Training loss')\n",
    "plt.plot(epochs, val_loss, 'b', label='Validation loss')\n",
    "plt.title('Training and validation loss')\n",
    "plt.legend()\n",
    "plt.show()"
   ]
  },
  {
   "cell_type": "markdown",
   "metadata": {},
   "source": [
    "### 8. Ahora se muestra el código que permite guardar y recuperar la red para no tener que volver a entrenarla\n",
    "\n",
    "#### Primero se incorpora el código para guardar una red en disco"
   ]
  },
  {
   "cell_type": "code",
   "execution_count": 23,
   "metadata": {
    "ExecuteTime": {
     "end_time": "2018-11-08T00:20:49.676566Z",
     "start_time": "2018-11-08T00:20:49.566203Z"
    }
   },
   "outputs": [
    {
     "name": "stdout",
     "output_type": "stream",
     "text": [
      "Modelo guardado en el PC\n"
     ]
    }
   ],
   "source": [
    "# obtenemos un accuracy bueno en validación, por lo que procedemos a continuar. Al clasificar con el conjunto de test,\n",
    "# comprobaremos si ha habido sobreajuste o no \n",
    "# guardamos la red, para reutilizarla en el futuro, sin tener que volver a entrenar\n",
    "\n",
    "# sport_model.save(\"sports_mnist.h5py\")\n",
    "# serializa el modelo para JSON\n",
    "model_json = sport_model.to_json()\n",
    "with open(\"sport_model.json\", \"w\") as json_file:\n",
    "  json_file.write(model_json)\n",
    "# serializan los pesos (weights) para HDF5\n",
    "sport_model.save_weights(\"sport_model.h5\")\n",
    "print(\"Modelo guardado en el PC\")\n"
   ]
  },
  {
   "cell_type": "markdown",
   "metadata": {},
   "source": [
    "#### Ahora se muestra el código que la recupera del disco. Atención, porque hay que compilarla -no entrenarla-"
   ]
  },
  {
   "cell_type": "code",
   "execution_count": 16,
   "metadata": {},
   "outputs": [
    {
     "name": "stdout",
     "output_type": "stream",
     "text": [
      "Modelo cargado desde el PC.\n",
      "\n",
      "Modelo compilado.\n",
      "\n"
     ]
    }
   ],
   "source": [
    "# despues...\n",
    "# carga el json y crea el modelo\n",
    "json_file = open('sport_model.json', 'r')\n",
    "loaded_model_json = json_file.read()\n",
    "json_file.close()\n",
    "\n",
    "sport_model = keras.models.model_from_json(loaded_model_json)\n",
    "# se cargan los pesos (weights) en el nuevo modelo\n",
    "sport_model.load_weights(\"sport_model.h5\")\n",
    "print(\"Modelo cargado desde el PC.\\n\")\n",
    "sport_model.compile(loss=keras.losses.categorical_crossentropy, optimizer='adam', metrics=['accuracy'])\n",
    "print(\"Modelo compilado.\\n\")"
   ]
  },
  {
   "cell_type": "markdown",
   "metadata": {},
   "source": [
    "### 9. Evaluamos la red\n",
    "\n",
    "#### Puede comprobarse que con los datos de *TEST*, que hasta ahora no los ha visto la red, el accuracy sigue siendo muy bueno, por lo que definitivamente podemos afirmar que nuestro modelo no sobreajusta, ahora bien, todos los datos provienen del mismo conjunto y se han obtenido en su mayoría a partir de secuencias de vídeo. Esto quiere decir que guardan una inmensa similutud. \n",
    "\n",
    "#### ¿Podría originar esto añgun tipo de sesgo o \"vicio\" en la capacidad clasificadora de la red? Lo veremos más abajo, en una segunda fase de test, con imágenes totalmente diferentes."
   ]
  },
  {
   "cell_type": "code",
   "execution_count": 17,
   "metadata": {
    "ExecuteTime": {
     "end_time": "2018-11-08T00:20:54.462929Z",
     "start_time": "2018-11-08T00:20:49.678643Z"
    }
   },
   "outputs": [
    {
     "name": "stdout",
     "output_type": "stream",
     "text": [
      "483/483 [==============================] - 35s 73ms/step - loss: 0.0301 - accuracy: 0.9921\n"
     ]
    }
   ],
   "source": [
    "\n",
    "test_eval = sport_model.evaluate(test_X, test_Y_one_hot, verbose=1)"
   ]
  },
  {
   "cell_type": "code",
   "execution_count": 18,
   "metadata": {
    "ExecuteTime": {
     "end_time": "2018-11-08T00:20:54.474683Z",
     "start_time": "2018-11-08T00:20:54.465378Z"
    }
   },
   "outputs": [
    {
     "name": "stdout",
     "output_type": "stream",
     "text": [
      "Test loss: 0.030141238123178482\n",
      "Test accuracy: 0.9920912981033325\n"
     ]
    }
   ],
   "source": [
    "print('Test loss:', test_eval[0])\n",
    "print('Test accuracy:', test_eval[1])"
   ]
  },
  {
   "cell_type": "code",
   "execution_count": 19,
   "metadata": {
    "ExecuteTime": {
     "end_time": "2018-11-08T00:20:58.050602Z",
     "start_time": "2018-11-08T00:20:55.021862Z"
    }
   },
   "outputs": [],
   "source": [
    "predicted_classes2 = sport_model.predict(test_X)"
   ]
  },
  {
   "cell_type": "code",
   "execution_count": 20,
   "metadata": {
    "ExecuteTime": {
     "end_time": "2018-11-08T00:20:58.262575Z",
     "start_time": "2018-11-08T00:20:58.052878Z"
    }
   },
   "outputs": [],
   "source": [
    "predicted_classes=[]\n",
    "for predicted_sport in predicted_classes2:\n",
    "    predicted_classes.append(predicted_sport.tolist().index(max(predicted_sport)))\n",
    "predicted_classes=np.array(predicted_classes)"
   ]
  },
  {
   "cell_type": "code",
   "execution_count": 21,
   "metadata": {
    "ExecuteTime": {
     "end_time": "2018-11-08T00:20:58.272559Z",
     "start_time": "2018-11-08T00:20:58.264703Z"
    }
   },
   "outputs": [
    {
     "data": {
      "text/plain": [
       "((15426,), (15426,))"
      ]
     },
     "execution_count": 21,
     "metadata": {},
     "output_type": "execute_result"
    }
   ],
   "source": [
    "predicted_classes.shape, test_Y.shape"
   ]
  },
  {
   "cell_type": "markdown",
   "metadata": {},
   "source": [
    "### 10. Aprendamos de los errores: Qué mejorar"
   ]
  },
  {
   "cell_type": "code",
   "execution_count": 23,
   "metadata": {},
   "outputs": [
    {
     "name": "stdout",
     "output_type": "stream",
     "text": [
      "[[1874    0    0    0    0    0    0    5    0    0]\n",
      " [   5 1825    0    0    0    1    0    0    0    0]\n",
      " [   4    0 1544    0    0    0    0    4    0    0]\n",
      " [   0    0    0 1415    1    0    0    0    0    0]\n",
      " [   0    0    0    0 1479    0    3    0    0    0]\n",
      " [   0    0    0    0    0 1003    0    0    0    0]\n",
      " [   8    0    0    0    0    0 1434   87    0    0]\n",
      " [   2    1    0    0    0    1    0 1891    0    0]\n",
      " [   0    0    0    0    0    0    0    0 1040    0]\n",
      " [   0    0    0    0    0    0    0    0    0 1799]]\n"
     ]
    }
   ],
   "source": [
    "from sklearn.metrics import confusion_matrix\n",
    "\n",
    "matrix = confusion_matrix(test_Y, predicted_classes)\n",
    "\n",
    "print(matrix)"
   ]
  },
  {
   "cell_type": "code",
   "execution_count": 37,
   "metadata": {
    "ExecuteTime": {
     "end_time": "2018-11-08T00:20:59.822110Z",
     "start_time": "2018-11-08T00:20:58.275464Z"
    }
   },
   "outputs": [
    {
     "name": "stdout",
     "output_type": "stream",
     "text": [
      "En test hemos clasificado bien  15303 imágenes\n"
     ]
    },
    {
     "data": {
      "image/png": "[encoded data removed]",
      "text/plain": [
       "<Figure size 432x288 with 8 Axes>"
      ]
     },
     "metadata": {
      "needs_background": "light"
     },
     "output_type": "display_data"
    }
   ],
   "source": [
    "correct = np.where(predicted_classes==test_Y)[0]\n",
    "print(\"En test hemos clasificado bien  %d imágenes\" % len(correct))\n",
    "for i, correct in enumerate(correct[0:9]):\n",
    "    plt.subplot(3,3,i+1)\n",
    "    plt.imshow(test_X[correct].reshape(21,28,3), cmap='gray', interpolation='none')\n",
    "    plt.title(\"{}, {}\".format(deportes[predicted_classes[correct]],\n",
    "                                                    deportes[test_Y[correct]]))\n",
    "\n",
    "    plt.tight_layout()"
   ]
  },
  {
   "cell_type": "code",
   "execution_count": 35,
   "metadata": {
    "ExecuteTime": {
     "end_time": "2018-11-08T00:21:00.942267Z",
     "start_time": "2018-11-08T00:20:59.829572Z"
    }
   },
   "outputs": [
    {
     "name": "stdout",
     "output_type": "stream",
     "text": [
      "En test hemos clasificado de forma incorrecta 123 imágenes\n"
     ]
    },
    {
     "data": {
      "image/png": "[encoded data removed]",
      "text/plain": [
       "<Figure size 432x288 with 8 Axes>"
      ]
     },
     "metadata": {
      "needs_background": "light"
     },
     "output_type": "display_data"
    }
   ],
   "source": [
    "incorrect = np.where(predicted_classes!=test_Y)[0]\n",
    "print(\"En test hemos clasificado de forma incorrecta %d imágenes\" % len(incorrect))\n",
    "for i, incorrect in enumerate(incorrect[0:9]):\n",
    "    plt.subplot(3,3,i+1)\n",
    "    plt.imshow(test_X[incorrect].reshape(21,28,3), cmap='gray', interpolation='none')\n",
    "    plt.title(\"{}, {}\".format(deportes[predicted_classes[incorrect]],\n",
    "                                                    deportes[test_Y[incorrect]]))\n",
    "    plt.tight_layout()"
   ]
  },
  {
   "cell_type": "code",
   "execution_count": 33,
   "metadata": {
    "ExecuteTime": {
     "end_time": "2018-11-08T00:21:00.968727Z",
     "start_time": "2018-11-08T00:21:00.947262Z"
    }
   },
   "outputs": [
    {
     "name": "stdout",
     "output_type": "stream",
     "text": [
      "              precision    recall  f1-score   support\n",
      "\n",
      "     Class 0       0.98      1.00      0.99      1955\n",
      "     Class 1       1.00      1.00      1.00      1841\n",
      "     Class 2       1.00      0.99      1.00      1560\n",
      "     Class 3       1.00      1.00      1.00      1398\n",
      "     Class 4       1.00      1.00      1.00      1491\n",
      "     Class 5       1.00      1.00      1.00      1032\n",
      "     Class 6       1.00      0.94      0.97      1508\n",
      "     Class 7       0.96      0.99      0.98      1926\n",
      "     Class 8       1.00      1.00      1.00      1012\n",
      "     Class 9       1.00      1.00      1.00      1703\n",
      "\n",
      "    accuracy                           0.99     15426\n",
      "   macro avg       0.99      0.99      0.99     15426\n",
      "weighted avg       0.99      0.99      0.99     15426\n",
      "\n"
     ]
    }
   ],
   "source": [
    "target_names = [\"Class {}\".format(i) for i in range(nClasses)]\n",
    "print(classification_report(test_Y, predicted_classes, target_names=target_names))"
   ]
  },
  {
   "cell_type": "markdown",
   "metadata": {},
   "source": [
    "### 11. Clasificación de imágenes nuevas\n",
    "\n",
    "#### A continuación se facilitsa código para que puedas testear el modelo con imágenes de deportes de las que tú dispongas y compruebes su capacidad de clasificación real.\n",
    "\n",
    "#### El resize se hace por código, para automatizar el proceso, por lo que no tienes que molestarte en cambiar el tamaño y puedes emplear cualquier imagen de la que dispongas\n",
    "\n",
    "#### Se puede observar que sobre estas otras imágenes el ratio de aciertos baja de forma drástica (¡¡por debajo del 40%!!). \n",
    "\n",
    "Esto se debe probablemente a que las imágenes de entrenamiento, de validación y test se han tomado de secuencias de vídeos en su gran mayoría (por lo que guardan una gran similitud). También es muy posible que influya que el tamaño (21x28) es muy pequeño para analizar detalles que diferencian a unos deportes y otros (quizá se confunde cuando hay mucho verde, o cuando hay varias personas y no se puede diferenciar, por la imagen, qué hacen las personas). \n",
    "\n",
    "#### Aún así el ejercicio resulta muy interesante a nivel didáctico. Con imágenes de mayor tamaño las necesidades de computación en entrenamiento se dispararían. "
   ]
  },
  {
   "cell_type": "code",
   "execution_count": 38,
   "metadata": {
    "scrolled": true
   },
   "outputs": [
    {
     "name": "stdout",
     "output_type": "stream",
     "text": [
      "pruebasPosteriores\\ame1.jpg \n",
      "\n",
      "pruebasPosteriores\\ame2.jpg \n",
      "\n",
      "pruebasPosteriores\\bo1.jpg \n",
      "\n",
      "pruebasPosteriores\\bo2.jpg \n",
      "\n",
      "pruebasPosteriores\\f11.jpg \n",
      "\n",
      "pruebasPosteriores\\f12.jpg \n",
      "\n",
      "pruebasPosteriores\\fu1.jpg \n",
      "\n",
      "pruebasPosteriores\\fu2.jpg \n",
      "\n",
      "pruebasPosteriores\\go1.jpg \n",
      "\n",
      "pruebasPosteriores\\go2.jpg \n",
      "\n",
      "pruebasPosteriores\\na1.jpg \n",
      "\n",
      "pruebasPosteriores\\na2.jpg \n",
      "\n",
      "pruebasPosteriores\\na3.jpg \n",
      "\n",
      "pruebasPosteriores\\ame1.jpg golf\n",
      "pruebasPosteriores\\ame2.jpg americano\n",
      "pruebasPosteriores\\bo1.jpg boxeo\n",
      "pruebasPosteriores\\bo2.jpg boxeo\n",
      "pruebasPosteriores\\f11.jpg americano\n",
      "pruebasPosteriores\\f12.jpg americano\n",
      "pruebasPosteriores\\fu1.jpg boxeo\n",
      "pruebasPosteriores\\fu2.jpg golf\n",
      "pruebasPosteriores\\go1.jpg golf\n",
      "pruebasPosteriores\\go2.jpg golf\n",
      "pruebasPosteriores\\na1.jpg golf\n",
      "pruebasPosteriores\\na2.jpg golf\n",
      "pruebasPosteriores\\na3.jpg golf\n"
     ]
    }
   ],
   "source": [
    "from skimage.transform import resize\n",
    "\n",
    "images=[]\n",
    "\n",
    "filenames = ['pruebasPosteriores\\\\ame1.jpg','pruebasPosteriores\\\\ame2.jpg','pruebasPosteriores\\\\bo1.jpg','pruebasPosteriores\\\\bo2.jpg','pruebasPosteriores\\\\f11.jpg','pruebasPosteriores\\\\f12.jpg','pruebasPosteriores\\\\fu1.jpg','pruebasPosteriores\\\\fu2.jpg','pruebasPosteriores\\\\go1.jpg','pruebasPosteriores\\\\go2.jpg','pruebasPosteriores\\\\na1.jpg','pruebasPosteriores\\\\na2.jpg','pruebasPosteriores\\\\na3.jpg']\n",
    "\n",
    "for filepath in filenames:\n",
    "    print(filepath,\"\\n\")\n",
    "    image = plt.imread(filepath,0)\n",
    "    image_resized = resize(image, (21, 28),anti_aliasing=True,clip=False,preserve_range=True)\n",
    "    images.append(image_resized)\n",
    "    #images.append(image)\n",
    "\n",
    "X = np.array(images, dtype=np.uint8) #convierto de lista a numpy\n",
    "test_X = X.astype('float32')\n",
    "test_X = test_X / 255.\n",
    "\n",
    "predicted_classes = sport_model.predict(test_X)\n",
    "\n",
    "for i, img_tagged in enumerate(predicted_classes):\n",
    "    print(filenames[i], deportes[img_tagged.tolist().index(max(img_tagged))])"
   ]
  },
  {
   "cell_type": "code",
   "execution_count": null,
   "metadata": {},
   "outputs": [],
   "source": []
  }
 ],
 "metadata": {
  "kernelspec": {
   "display_name": "Python 3",
   "language": "python",
   "name": "python3"
  },
  "language_info": {
   "codemirror_mode": {
    "name": "ipython",
    "version": 3
   },
   "file_extension": ".py",
   "mimetype": "text/x-python",
   "name": "python",
   "nbconvert_exporter": "python",
   "pygments_lexer": "ipython3",
   "version": "3.7.9"
  }
 },
 "nbformat": 4,
 "nbformat_minor": 2
}
